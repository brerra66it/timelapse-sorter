{
 "cells": [
  {
   "cell_type": "code",
   "execution_count": 17,
   "metadata": {},
   "outputs": [
    {
     "name": "stdout",
     "output_type": "stream",
     "text": [
      "578 files in directory\n"
     ]
    }
   ],
   "source": [
    "import os\n",
    "from os import listdir\n",
    "from os.path import isfile, join\n",
    "import shutil\n",
    "import datetime\n",
    "\n",
    "# this script moves timelapse image files towards /nights and /weekends subdirectories based on timestamp at the end of the file\n",
    "\n",
    "collect_path_to_sort = \"c:/Science2/2019-06 Timelapse ITI construction/2020-01-21 collect/\"\n",
    "final_path = \"c:/Science2/2019-06 Timelapse ITI construction/2020-01-22 hours extracted slideshow/image-data/\"\n",
    "\n",
    "# https://stackoverflow.com/questions/3207219/how-do-i-list-all-files-of-a-directory\n",
    "# from os import listdir\n",
    "# from os.path import isfile, join\n",
    "# onlyfiles = [f for f in listdir(mypath) if isfile(join(mypath, f))]\n",
    "\n",
    "onlyfiles = [f for f in listdir(collect_path_to_sort) if isfile(join(collect_path_to_sort, f))]\n",
    "print(len(onlyfiles),\"files in directory\")  \n",
    "\n",
    "for current_file in onlyfiles:\n",
    "    if int(current_file[-6:-4]) == 0:\n",
    "        shutil.copyfile(collect_path_to_sort+current_file, final_path+current_file)\n"
   ]
  },
  {
   "cell_type": "code",
   "execution_count": null,
   "metadata": {},
   "outputs": [],
   "source": []
  }
 ],
 "metadata": {
  "kernelspec": {
   "display_name": "Python 3",
   "language": "python",
   "name": "python3"
  },
  "language_info": {
   "codemirror_mode": {
    "name": "ipython",
    "version": 3
   },
   "file_extension": ".py",
   "mimetype": "text/x-python",
   "name": "python",
   "nbconvert_exporter": "python",
   "pygments_lexer": "ipython3",
   "version": "3.7.3"
  }
 },
 "nbformat": 4,
 "nbformat_minor": 4
}
