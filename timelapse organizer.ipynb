{
 "cells": [
  {
   "cell_type": "code",
   "execution_count": 23,
   "metadata": {},
   "outputs": [
    {
     "name": "stdout",
     "output_type": "stream",
     "text": [
      "workday from 08:00:00 till 17:00:00\n",
      "['2019-08-26_0700.jpg', '2019-08-26_0715.jpg', '2019-08-26_0730.jpg', '2019-08-26_0745.jpg', '2019-08-26_0800.jpg']\n",
      "['2019-09-13_1645.jpg', '2019-09-13_1700.jpg', '2019-09-13_1715.jpg', '2019-09-13_1730.jpg', '2019-09-13_1745.jpg']\n",
      "704 files in directory\n",
      "Directory  c:/Science2/2019-06 Timelapse ITI construction/2019-09-14 collect/nights/  already exists\n",
      "Directory  c:/Science2/2019-06 Timelapse ITI construction/2019-09-14 collect/weekends/  already exists\n"
     ]
    }
   ],
   "source": [
    "import os\n",
    "from os import listdir\n",
    "from os.path import isfile, join\n",
    "import shutil\n",
    "import datetime\n",
    "\n",
    "# this script moves timelapse image files towards /nights and /weekends subdirectories based on timestamp at the end of the file\n",
    "\n",
    "collect_path_to_sort = \"c:/Science2/2019-06 Timelapse ITI construction/2019-10-06 collect/\"\n",
    "time_work_start = datetime.time(8,0,0)\n",
    "time_work_final = datetime.time(17,0,0)\n",
    "date_last_workday = 4 # where Monday is 0 and Sunday is 6.\n",
    "\n",
    "print(\"workday from\",time_work_start, \"till\", time_work_final)\n",
    "\n",
    "# https://stackoverflow.com/questions/3207219/how-do-i-list-all-files-of-a-directory\n",
    "# from os import listdir\n",
    "# from os.path import isfile, join\n",
    "# onlyfiles = [f for f in listdir(mypath) if isfile(join(mypath, f))]\n",
    "\n",
    "onlyfiles = [f for f in listdir(collect_path_to_sort) if isfile(join(collect_path_to_sort, f))]\n",
    "print(onlyfiles[:5])\n",
    "print(onlyfiles[-5:])\n",
    "print(len(onlyfiles),\"files in directory\")\n",
    "\n",
    "if not os.path.exists(collect_path_to_sort+\"nights/\"):\n",
    "    os.makedirs(collect_path_to_sort+\"nights/\")\n",
    "    print(\"Directory \" , collect_path_to_sort+\"nights/\" ,  \" Created \")\n",
    "else:    \n",
    "    print(\"Directory \" , collect_path_to_sort+\"nights/\" ,  \" already exists\")\n",
    "    \n",
    "if not os.path.exists(collect_path_to_sort+\"weekends/\"):\n",
    "    os.makedirs(collect_path_to_sort+\"weekends/\")\n",
    "    print(\"Directory \" , collect_path_to_sort+\"weekends/\" ,  \" Created \")\n",
    "else:    \n",
    "    print(\"Directory \" , collect_path_to_sort+\"weekends/\" ,  \" already exists\")   \n",
    "\n",
    "for i, current_file in enumerate(onlyfiles):\n",
    "    # print(int(current_file[-11:-9]))\n",
    "    current_file_date = datetime.date(int(current_file[-19:-15]), int(current_file[-14:-12]), int(current_file[-11:-9]))\n",
    "    current_file_time = datetime.time(int(current_file[-8:-6]), int(current_file[-6:-4]))\n",
    "    \n",
    "    # print(current_file_date.weekday()) # Return the day of the week as an integer, where Monday is 0 and Sunday is 6.  \n",
    "    if current_file_date.weekday() > date_last_workday:\n",
    "        shutil.move(collect_path_to_sort+current_file, collect_path_to_sort+\"weekends/\"+current_file)\n",
    "    else:\n",
    "        # print(time_work_start <= current_file_time <= time_work_final, current_file_time)\n",
    "        if not time_work_start <= current_file_time <= time_work_final:\n",
    "            shutil.move(collect_path_to_sort+current_file, collect_path_to_sort+\"nights/\"+current_file)\n",
    "    \n",
    "        \n",
    "        \n",
    "\n",
    "\n",
    "# https://stackoverflow.com/questions/8858008/how-to-move-a-file-in-python\n",
    "# import os\n",
    "# import shutil\n",
    "# \n",
    "# os.rename(\"path/to/current/file.foo\", \"path/to/new/destination/for/file.foo\")\n",
    "# shutil.move(\"path/to/current/file.foo\", \"path/to/new/destination/for/file.foo\")\n",
    "# os.replace(\"path/to/current/file.foo\", \"path/to/new/destination/for/file.foo\")"
   ]
  },
  {
   "cell_type": "code",
   "execution_count": null,
   "metadata": {},
   "outputs": [],
   "source": []
  }
 ],
 "metadata": {
  "kernelspec": {
   "display_name": "Python 3",
   "language": "python",
   "name": "python3"
  },
  "language_info": {
   "codemirror_mode": {
    "name": "ipython",
    "version": 3
   },
   "file_extension": ".py",
   "mimetype": "text/x-python",
   "name": "python",
   "nbconvert_exporter": "python",
   "pygments_lexer": "ipython3",
   "version": "3.7.3"
  }
 },
 "nbformat": 4,
 "nbformat_minor": 4
}
